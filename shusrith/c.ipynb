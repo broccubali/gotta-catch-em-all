{
 "cells": [
  {
   "cell_type": "code",
   "execution_count": 3,
   "metadata": {},
   "outputs": [
    {
     "data": {
      "text/plain": [
       "0        Abra\n",
       "1        Abra\n",
       "2        Abra\n",
       "3        Abra\n",
       "4        Abra\n",
       "        ...  \n",
       "1660    Zubat\n",
       "1661    Zubat\n",
       "1662    Zubat\n",
       "1663    Zubat\n",
       "1664    Zubat\n",
       "Name: true, Length: 1665, dtype: object"
      ]
     },
     "execution_count": 3,
     "metadata": {},
     "output_type": "execute_result"
    }
   ],
   "source": [
    "import pandas as pd\n",
    "\n",
    "df = pd.read_csv(\n",
    "    \"/home/shusrith/projects/blind-eyes/gotta-catch-em-all/shusrith/submission.csv\"\n",
    ")\n",
    "df[\"true\"] = df[\"Image_name\"].apply(lambda x: x.split(\"/\")[7])\n",
    "df[\"true\"]"
   ]
  },
  {
   "cell_type": "code",
   "execution_count": 4,
   "metadata": {},
   "outputs": [
    {
     "name": "stdout",
     "output_type": "stream",
     "text": [
      "0.818018018018018\n"
     ]
    }
   ],
   "source": [
    "correct = 0\n",
    "total = 0\n",
    "for i in range(0, len(df)):\n",
    "    if df[\"true\"][i] == df[\"Class\"][i]:\n",
    "        correct += 1\n",
    "    total += 1\n",
    "\n",
    "print(correct / total)"
   ]
  }
 ],
 "metadata": {
  "kernelspec": {
   "display_name": "Python 3",
   "language": "python",
   "name": "python3"
  },
  "language_info": {
   "codemirror_mode": {
    "name": "ipython",
    "version": 3
   },
   "file_extension": ".py",
   "mimetype": "text/x-python",
   "name": "python",
   "nbconvert_exporter": "python",
   "pygments_lexer": "ipython3",
   "version": "3.11.4"
  }
 },
 "nbformat": 4,
 "nbformat_minor": 2
}
